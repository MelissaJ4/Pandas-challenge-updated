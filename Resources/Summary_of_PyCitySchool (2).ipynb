{
 "cells": [
  {
   "cell_type": "markdown",
   "id": "dfd76689-573d-4e9a-8983-a65dadaa3c87",
   "metadata": {},
   "source": [
    "# Summary report of two observable trends.\n",
    "\n",
    "## The data set provided numbers regarding 15 schools in PyCity.  They were of different structure, size of student population, and success when measured academically in this csv\n",
    "\n",
    "##1.  Taking into consideration school population size, there is a significant difference between charter and district schools. Charter schools range from the smallest, Holden at 427 students to the largest with 2283 students attending Wilson.  However, district schools are much larger overall in student population, ranging from 2739 students at Ford to 4976 at Bailey High.  Though there is discrepancy in overall size, the per student budget is relatively similar.  At the low end is Wilson (charter) and the higher end is Huang (district) and their budget per student is $578 and $655, respectively.  Therefore, in most regards, not an overwhelming difference.  The top five performing schools when considering overall passing rates of 70% of higher in two subject areas, were all charter schools while the lowest overall performing schools were district schools.  It could lead to the belief that smaller schools in regards to population size are more beneficial to students' academic success.  This might be due to smaller class sizes, more one-on-one time, or fewer distractions from other students or activities.\n",
    "\n",
    "##2. Besides overall performance and the effect school size has on academic success, one noticeable discrepancy is the spread of students passing by 70% in the two subject areas.  Generally speaking, all students were more successful in reading than math whether they attended a charter or district school.  However, the alarming difference comes from comparing math scores between charter and district schools.  The top performing schools (all charter) were in the mid 90% for amount of students passing math with 70% or more.  On the other hand, district schools are in the mid 60% for students with a 70% or more in math.  The disparity in students passing reading between charter and district schools is less with students differing by about 15% between well-performing charter schools and slightly above average performing district schools.  Because of the large difference in passing rates for math and therefore overall, district schools need to re-examine their math curriculum.  This deficit by district schools might be in classes offered, staff performance, tutoring support, or methodology.  These attributes should be evaluated and updated to align more with the approach charter schools take when teaching math. "
   ]
  }
 ],
 "metadata": {
  "kernelspec": {
   "display_name": "Python 3 (ipykernel)",
   "language": "python",
   "name": "python3"
  },
  "language_info": {
   "codemirror_mode": {
    "name": "ipython",
    "version": 3
   },
   "file_extension": ".py",
   "mimetype": "text/x-python",
   "name": "python",
   "nbconvert_exporter": "python",
   "pygments_lexer": "ipython3",
   "version": "3.11.7"
  }
 },
 "nbformat": 4,
 "nbformat_minor": 5
}
